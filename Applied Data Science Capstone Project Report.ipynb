{
    "cells": [
        {
            "cell_type": "markdown",
            "metadata": {},
            "source": "# IBM FINAL CAPSTONE PROJECT"
        },
        {
            "cell_type": "markdown",
            "metadata": {
                "collapsed": true
            },
            "source": "# Contents"
        },
        {
            "cell_type": "markdown",
            "metadata": {},
            "source": "1. IBM FINAL CAPSTONE PROJECT"
        },
        {
            "cell_type": "markdown",
            "metadata": {},
            "source": "2. INTRODUCTION"
        },
        {
            "cell_type": "markdown",
            "metadata": {},
            "source": "3. TARGET AUDIENCE"
        },
        {
            "cell_type": "markdown",
            "metadata": {},
            "source": "4. EXTRACTING THE DATA"
        },
        {
            "cell_type": "markdown",
            "metadata": {},
            "source": "5. METHODOLOGY"
        },
        {
            "cell_type": "markdown",
            "metadata": {},
            "source": "        Step 1: Demographics Data Extraction from Wikipedia"
        },
        {
            "cell_type": "markdown",
            "metadata": {},
            "source": "        Step 2: Get the Geo Coordinates for the neighborhoods, from Step 1"
        },
        {
            "cell_type": "markdown",
            "metadata": {},
            "source": "        STEP 3: Use the neighborhood Geo Coordinates from step 2, to extract venues around these neighborhoods"
        },
        {
            "cell_type": "markdown",
            "metadata": {},
            "source": "        STEP 4: Use of venue details from Step 3 for the analysis"
        },
        {
            "cell_type": "markdown",
            "metadata": {},
            "source": "        STEP 5: Find the best Neighborhood to open a new restaurant"
        },
        {
            "cell_type": "markdown",
            "metadata": {},
            "source": "6. RECOMMENDATIONS"
        },
        {
            "cell_type": "markdown",
            "metadata": {},
            "source": "<h3>INTRODUCTION"
        },
        {
            "cell_type": "markdown",
            "metadata": {},
            "source": "This is a capstone project for IBM Data Science Professional Certificate. This project is about, smart data analysis using advanced Analytics and Geographical data points to find the best location/Neighborhood in Toronto Downtown for a Restaurant start-up.\nSince the project is to identify the best suitable location in Toronto\u00a0for the Restaurant business, let\u2019s start with little background on Toronto and understand the New business opportunity and challenges.\nToronto is the provincial capital of\u00a0Ontario\u00a0and the\u00a0most populous city in Canada. The city is the anchor of the\u00a0Golden Horseshoe, an urban agglomeration of 12 million people surrounding the western end of\u00a0Lake Ontario. Toronto is an international centre of business, finance, arts, and culture, and is recognized as one of the most multicultural and cosmopolitan cities in the world. "
        },
        {
            "cell_type": "markdown",
            "metadata": {},
            "source": "<h3>BUSINESS PROBLEM"
        },
        {
            "cell_type": "markdown",
            "metadata": {},
            "source": "Because of it\u2019s multicultural environment and being the financial hub of Canada, the opportunity is enormous and the same time market is highly competitive. Hence, any new business venture needs to be thought through and analysed carefully supported by data facts. \nThrough this project we are going to help find the best strategical location for a new Restaurant business setup in Toronto, Canada.\nBy using data science methods and tools along with machine learning algorithms such as clustering, this project aims to provide solutions to answer the business question: What part of Toronto, is the best suitable location to start new Restaurant Business"
        },
        {
            "cell_type": "markdown",
            "metadata": {},
            "source": "<h3>TARGET AUDIENCE"
        },
        {
            "cell_type": "markdown",
            "metadata": {},
            "source": "The entrepreneur who wants to find the location to open a new restaurant business in Toronto Downtown."
        },
        {
            "cell_type": "markdown",
            "metadata": {},
            "source": "<h3>DATA"
        },
        {
            "cell_type": "markdown",
            "metadata": {},
            "source": "To solve this problem, we will need below data:"
        },
        {
            "cell_type": "markdown",
            "metadata": {},
            "source": "       1. Geo Coordinates of Neighbourhoods in Toronto Downtown, Canada"
        },
        {
            "cell_type": "markdown",
            "metadata": {},
            "source": "       2.Venue data around Toronto Neighborhood to understand two things:"
        },
        {
            "cell_type": "markdown",
            "metadata": {},
            "source": "              a. Happening places around downtown"
        },
        {
            "cell_type": "markdown",
            "metadata": {},
            "source": "              b. Neighborhood with a smaller number of Restaurants."
        },
        {
            "cell_type": "markdown",
            "metadata": {},
            "source": "<h3>EXTRACTING THE DATA"
        },
        {
            "cell_type": "markdown",
            "metadata": {},
            "source": "        Step 1: The scrapping of Toronto Neighborhoods via Wikipedia"
        },
        {
            "cell_type": "markdown",
            "metadata": {},
            "source": "        Step 2: Get Latitude and Longitude of these Neighbourhoods via Geocoder package"
        },
        {
            "cell_type": "markdown",
            "metadata": {},
            "source": "        Step 3: Using Foursquare API to get venue data related to these Neighbourhoods"
        },
        {
            "cell_type": "markdown",
            "metadata": {},
            "source": "<h3>METHODOLOGY"
        },
        {
            "cell_type": "markdown",
            "metadata": {},
            "source": "<b>Step 1: Demographics Data Extraction from Wikipedia:"
        },
        {
            "cell_type": "markdown",
            "metadata": {},
            "source": "First, we need to get the list of neighbourhoods in Toronto, Canada. This is possible by extracting the list of neighbourhoods from Wikipedia: \u200bhttps://en.wikipedia.org/wiki/List_of_postal_codes_of_Canada:_M\u200b\n Did the web scraping on Wikipedia page, by utilizing BeautifulSoup4 and got the data of interest extracted into a DataFrame for further processing"
        },
        {
            "cell_type": "markdown",
            "metadata": {},
            "source": "<b>Step 2: Get the Geo Coordinates for the neighborhoods, from Step 1:"
        },
        {
            "cell_type": "markdown",
            "metadata": {},
            "source": "The data extracted from Wikipedia is only a list of neighborhoods along with it\u2019s postal codes, which as it is does not mean anything. So we need to get the Geo coordinates of neighborhood utilising Geocoder package.\nGeocoder Package was not working as expected, hence changed my strategy and used CSV file provided by IBM team to match the coordinates of Toronto neighborhoods. \nThen used the derived co-ordinates to visualize the map of Toronto neighborhood using Folium package to verify whether these are correct coordinates. "
        },
        {
            "cell_type": "markdown",
            "metadata": {},
            "source": "<b>STEP 3: Use the neighborhood Geo Coordinates from step 2, to extract venues around these neighborhoods:"
        },
        {
            "cell_type": "markdown",
            "metadata": {},
            "source": "Next, used Foursquare API to pull the list of top 100 venues within 500 meters radius. Foursquare help us with very useful information such as names, categories, latitude, and longitude of the venues. "
        },
        {
            "cell_type": "markdown",
            "metadata": {},
            "source": "<b>STEP 4: Use of venue details from Step 3 for the analysis:"
        },
        {
            "cell_type": "markdown",
            "metadata": {},
            "source": "The venue details from step 3 are of great value for our analysis to find the best suitable place to open a new Restaurant in Toronto Downtown.\nUsed the Foursquare data:"
        },
        {
            "cell_type": "markdown",
            "metadata": {},
            "source": "        a. To venue categorise into two further high-level categories. 1. Restaurants and 2. All other venues around each of the neighborhoods"
        },
        {
            "cell_type": "markdown",
            "metadata": {},
            "source": "        b. All other venues (except Restaurant) was used to identify the most happening places around Toronto Downtown."
        },
        {
            "cell_type": "markdown",
            "metadata": {},
            "source": "        c. Restaurant data was used to find number of restaurants around neighborhoods, which will give a feel of density of Restaurants that will help decide whether a specific neighborhood has a need for a new restaurant or there are already lot of them"
        },
        {
            "cell_type": "markdown",
            "metadata": {},
            "source": "<h3>STEP 5: Find the best Neighborhood to open a new restaurant:"
        },
        {
            "cell_type": "markdown",
            "metadata": {},
            "source": "Based on the above analysis, we found out the most happening places (based on count of number of venues) around and it\u2019s restaurant index (number of restaurants/number of venues) to finalise the best strategical location to open a new restaurant.\nIf there are may venues around, this means it\u2019s a happening place in the Toronto downtown, so you can expect a lot of visitors and people around which is the first requirement for restaurant business. People normally go out to places with a lot options to spend time and when we are out, we love to enjoy good food with family and friends.\nOnce we identified the happening places, the next to thing to check is, how many restaurants around. If there are already many of them then does not make sense, so the best neighborhood to open a new restaurant is, neighborhood with most happening places around but smaller number of restaurants."
        },
        {
            "cell_type": "markdown",
            "metadata": {},
            "source": "# DISCUSSION & RECOMMENDATIONS"
        },
        {
            "cell_type": "markdown",
            "metadata": {},
            "source": "Based on the above Analysis, we found our top five neighborhood to start a new restaurant business. Find below the detailed discussion on each of the top five neighborhood"
        },
        {
            "cell_type": "markdown",
            "metadata": {},
            "source": "1. Rosedale: There are no restaurants in Rosedale, hence could be a good place to start a new restaurant business but there are not many venues around to support business case. If we would have population, income group and age group details then we could have used that for further analysis but unfortunately, we don\u2019t have these informations. So with current set of data and analysis findings, I will not recommend Rosedale to open a new Restaurant"
        },
        {
            "cell_type": "markdown",
            "metadata": {},
            "source": "2. CN Tower, King and Spadina: There are 14 venues around so can be classified as place where we can expect good number of visitors and there is no restaurants, this makes it as strategic place to start a new Restaurant business"
        },
        {
            "cell_type": "markdown",
            "metadata": {},
            "source": "3. Christie: There are 15 venues and there are already 2 restaurants, could be a place to start new Restaurant business but between CN Tower and Christie, CN Tower is a better place for the reasons already explained."
        },
        {
            "cell_type": "markdown",
            "metadata": {},
            "source": "4. Harbourfront East: one of the most happening place in downtown with around 86 venues around but there are already 13 restaurants in the neighbourhood. So even though it\u2019s one of the most suitable places to start the business, we will also have a lot of competitions. Since this is a new setup, it may take few months to establish against some of the old and established restaurants in the neighborhood."
        },
        {
            "cell_type": "markdown",
            "metadata": {},
            "source": "5. Regent Park:  Regent park is my recommendation for a New Restaurant Business as there are as many as 42 great happening places around but only 3 Restaurants in top 100 list, which makes Regent Park as the most strategically suitable neighborhood to start a new Restaurant Business."
        },
        {
            "cell_type": "code",
            "execution_count": null,
            "metadata": {},
            "outputs": [],
            "source": ""
        }
    ],
    "metadata": {
        "kernelspec": {
            "display_name": "Python 3.6",
            "language": "python",
            "name": "python3"
        },
        "language_info": {
            "codemirror_mode": {
                "name": "ipython",
                "version": 3
            },
            "file_extension": ".py",
            "mimetype": "text/x-python",
            "name": "python",
            "nbconvert_exporter": "python",
            "pygments_lexer": "ipython3",
            "version": "3.6.9"
        }
    },
    "nbformat": 4,
    "nbformat_minor": 1
}