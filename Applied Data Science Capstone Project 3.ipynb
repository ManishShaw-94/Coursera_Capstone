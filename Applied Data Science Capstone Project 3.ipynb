{
    "cells": [
        {
            "cell_type": "markdown",
            "metadata": {
                "collapsed": true
            },
            "source": "# Capstone Project"
        },
        {
            "cell_type": "markdown",
            "metadata": {},
            "source": "This notebook is for Capstone project and we will be using Pandas in the Python Programming Language and Various machine learning Techniques to deliver the end outcome."
        },
        {
            "cell_type": "markdown",
            "metadata": {},
            "source": "<b> Install BeautifulSoup4 tool for data Scrapping "
        },
        {
            "cell_type": "code",
            "execution_count": 3,
            "metadata": {},
            "outputs": [
                {
                    "name": "stdout",
                    "output_type": "stream",
                    "text": "Requirement already satisfied: requests in /opt/conda/envs/Python36/lib/python3.6/site-packages (2.21.0)\nCollecting bs4\n  Downloading https://files.pythonhosted.org/packages/10/ed/7e8b97591f6f456174139ec089c769f89a94a1a4025fe967691de971f314/bs4-0.0.1.tar.gz\nRequirement already satisfied: pandas in /opt/conda/envs/Python36/lib/python3.6/site-packages (0.24.1)\nRequirement already satisfied: certifi>=2017.4.17 in /opt/conda/envs/Python36/lib/python3.6/site-packages (from requests) (2020.4.5.1)\nRequirement already satisfied: urllib3<1.25,>=1.21.1 in /opt/conda/envs/Python36/lib/python3.6/site-packages (from requests) (1.24.1)\nRequirement already satisfied: chardet<3.1.0,>=3.0.2 in /opt/conda/envs/Python36/lib/python3.6/site-packages (from requests) (3.0.4)\nRequirement already satisfied: idna<2.9,>=2.5 in /opt/conda/envs/Python36/lib/python3.6/site-packages (from requests) (2.8)\nRequirement already satisfied: beautifulsoup4 in /opt/conda/envs/Python36/lib/python3.6/site-packages (from bs4) (4.7.1)\nRequirement already satisfied: python-dateutil>=2.5.0 in /opt/conda/envs/Python36/lib/python3.6/site-packages (from pandas) (2.7.5)\nRequirement already satisfied: pytz>=2011k in /opt/conda/envs/Python36/lib/python3.6/site-packages (from pandas) (2018.9)\nRequirement already satisfied: numpy>=1.12.0 in /opt/conda/envs/Python36/lib/python3.6/site-packages (from pandas) (1.15.4)\nRequirement already satisfied: soupsieve>=1.2 in /opt/conda/envs/Python36/lib/python3.6/site-packages (from beautifulsoup4->bs4) (1.7.1)\nRequirement already satisfied: six>=1.5 in /opt/conda/envs/Python36/lib/python3.6/site-packages (from python-dateutil>=2.5.0->pandas) (1.12.0)\nBuilding wheels for collected packages: bs4\n  Building wheel for bs4 (setup.py) ... \u001b[?25ldone\n\u001b[?25h  Stored in directory: /home/dsxuser/.cache/pip/wheels/a0/b0/b2/4f80b9456b87abedbc0bf2d52235414c3467d8889be38dd472\nSuccessfully built bs4\nInstalling collected packages: bs4\nSuccessfully installed bs4-0.0.1\nbeautifulsoup4 is SUCCESSFULLY installed !\n"
                }
            ],
            "source": "# Installing Dependencies\n\n!pip install requests bs4 pandas\n\nprint(\"beautifulsoup4 is SUCCESSFULLY installed !\")"
        },
        {
            "cell_type": "code",
            "execution_count": 4,
            "metadata": {},
            "outputs": [],
            "source": "from bs4 import BeautifulSoup # magical tool for parsing html data\nfrom urllib.request import urlopen # for making standard html requests\n\nimport requests\nimport json # for parsing data\nimport pandas as pd # premier library for data organization"
        },
        {
            "cell_type": "markdown",
            "metadata": {},
            "source": "<h2>1. Web Scrapping and Data Preparation"
        },
        {
            "cell_type": "markdown",
            "metadata": {},
            "source": "<b> Extract Table data from the WIKIPEDIA html page"
        },
        {
            "cell_type": "code",
            "execution_count": 6,
            "metadata": {},
            "outputs": [],
            "source": "# Request html page from our target URL\n\nurl = \"https://en.wikipedia.org/wiki/List_of_postal_codes_of_Canada:_M\"\n\npage = requests.get(url)\nsoup = BeautifulSoup(page.text, 'html.parser')\n\ntable_data = soup.find('table')\n#print(table_data.prettify())"
        },
        {
            "cell_type": "markdown",
            "metadata": {},
            "source": "<b>Capture the table data cells from the HTML page into the Dataframe"
        },
        {
            "cell_type": "code",
            "execution_count": 7,
            "metadata": {},
            "outputs": [
                {
                    "data": {
                        "text/html": "<div>\n<style scoped>\n    .dataframe tbody tr th:only-of-type {\n        vertical-align: middle;\n    }\n\n    .dataframe tbody tr th {\n        vertical-align: top;\n    }\n\n    .dataframe thead th {\n        text-align: right;\n    }\n</style>\n<table border=\"1\" class=\"dataframe\">\n  <thead>\n    <tr style=\"text-align: right;\">\n      <th></th>\n      <th>PostalCode</th>\n      <th>Borough</th>\n      <th>Neighborhood</th>\n    </tr>\n  </thead>\n  <tbody>\n    <tr>\n      <th>0</th>\n      <td>M1A\\n</td>\n      <td>Not assigned\\n</td>\n      <td>\\n</td>\n    </tr>\n    <tr>\n      <th>1</th>\n      <td>M2A\\n</td>\n      <td>Not assigned\\n</td>\n      <td>\\n</td>\n    </tr>\n    <tr>\n      <th>2</th>\n      <td>M3A\\n</td>\n      <td>North York\\n</td>\n      <td>Parkwoods\\n</td>\n    </tr>\n    <tr>\n      <th>3</th>\n      <td>M4A\\n</td>\n      <td>North York\\n</td>\n      <td>Victoria Village\\n</td>\n    </tr>\n    <tr>\n      <th>4</th>\n      <td>M5A\\n</td>\n      <td>Downtown Toronto\\n</td>\n      <td>Regent Park, Harbourfront\\n</td>\n    </tr>\n  </tbody>\n</table>\n</div>",
                        "text/plain": "  PostalCode             Borough                 Neighborhood\n0      M1A\\n      Not assigned\\n                           \\n\n1      M2A\\n      Not assigned\\n                           \\n\n2      M3A\\n        North York\\n                  Parkwoods\\n\n3      M4A\\n        North York\\n           Victoria Village\\n\n4      M5A\\n  Downtown Toronto\\n  Regent Park, Harbourfront\\n"
                    },
                    "execution_count": 7,
                    "metadata": {},
                    "output_type": "execute_result"
                }
            ],
            "source": "# Get all the table rows from 2nd Row onwards and place it under Headers.\n\ndata = []\nfor tr in table_data.find_all('tr')[1:]:\n    row_data = tr.find_all('td')\n    data.append([cell.text for cell in row_data])\ndf_data = pd.DataFrame(data, columns = ['PostalCode', 'Borough', 'Neighborhood'])\ndf_data.head(5)"
        },
        {
            "cell_type": "markdown",
            "metadata": {},
            "source": "<b> Data Cleanup: Remove the new line charecter (\\n) from the dataset. "
        },
        {
            "cell_type": "code",
            "execution_count": 8,
            "metadata": {},
            "outputs": [
                {
                    "data": {
                        "text/html": "<div>\n<style scoped>\n    .dataframe tbody tr th:only-of-type {\n        vertical-align: middle;\n    }\n\n    .dataframe tbody tr th {\n        vertical-align: top;\n    }\n\n    .dataframe thead th {\n        text-align: right;\n    }\n</style>\n<table border=\"1\" class=\"dataframe\">\n  <thead>\n    <tr style=\"text-align: right;\">\n      <th></th>\n      <th>PostalCode</th>\n      <th>Borough</th>\n      <th>Neighborhood</th>\n    </tr>\n  </thead>\n  <tbody>\n    <tr>\n      <th>0</th>\n      <td>M1A</td>\n      <td>Not assigned</td>\n      <td></td>\n    </tr>\n    <tr>\n      <th>1</th>\n      <td>M2A</td>\n      <td>Not assigned</td>\n      <td></td>\n    </tr>\n    <tr>\n      <th>2</th>\n      <td>M3A</td>\n      <td>North York</td>\n      <td>Parkwoods</td>\n    </tr>\n    <tr>\n      <th>3</th>\n      <td>M4A</td>\n      <td>North York</td>\n      <td>Victoria Village</td>\n    </tr>\n    <tr>\n      <th>4</th>\n      <td>M5A</td>\n      <td>Downtown Toronto</td>\n      <td>Regent Park, Harbourfront</td>\n    </tr>\n  </tbody>\n</table>\n</div>",
                        "text/plain": "  PostalCode           Borough               Neighborhood\n0        M1A      Not assigned                           \n1        M2A      Not assigned                           \n2        M3A        North York                  Parkwoods\n3        M4A        North York           Victoria Village\n4        M5A  Downtown Toronto  Regent Park, Harbourfront"
                    },
                    "execution_count": 8,
                    "metadata": {},
                    "output_type": "execute_result"
                }
            ],
            "source": "df_data['PostalCode'] = df_data['PostalCode'].str.split('\\n', expand = True)[0]\ndf_data['Borough'] = df_data['Borough'].str.split('\\n', expand = True)[0]\ndf_data['Neighborhood'] = df_data['Neighborhood'].str.split('\\n', expand = True)[0]\n\ndf_data.head()"
        },
        {
            "cell_type": "markdown",
            "metadata": {},
            "source": "<b>Only process the cells that have an assigned borough (Drop, Borough = \"Not assigned\")"
        },
        {
            "cell_type": "code",
            "execution_count": 9,
            "metadata": {},
            "outputs": [
                {
                    "data": {
                        "text/html": "<div>\n<style scoped>\n    .dataframe tbody tr th:only-of-type {\n        vertical-align: middle;\n    }\n\n    .dataframe tbody tr th {\n        vertical-align: top;\n    }\n\n    .dataframe thead th {\n        text-align: right;\n    }\n</style>\n<table border=\"1\" class=\"dataframe\">\n  <thead>\n    <tr style=\"text-align: right;\">\n      <th></th>\n      <th>PostalCode</th>\n      <th>Borough</th>\n      <th>Neighborhood</th>\n    </tr>\n  </thead>\n  <tbody>\n    <tr>\n      <th>2</th>\n      <td>M3A</td>\n      <td>North York</td>\n      <td>Parkwoods</td>\n    </tr>\n    <tr>\n      <th>3</th>\n      <td>M4A</td>\n      <td>North York</td>\n      <td>Victoria Village</td>\n    </tr>\n    <tr>\n      <th>4</th>\n      <td>M5A</td>\n      <td>Downtown Toronto</td>\n      <td>Regent Park, Harbourfront</td>\n    </tr>\n    <tr>\n      <th>5</th>\n      <td>M6A</td>\n      <td>North York</td>\n      <td>Lawrence Manor, Lawrence Heights</td>\n    </tr>\n    <tr>\n      <th>6</th>\n      <td>M7A</td>\n      <td>Downtown Toronto</td>\n      <td>Queen's Park, Ontario Provincial Government</td>\n    </tr>\n  </tbody>\n</table>\n</div>",
                        "text/plain": "  PostalCode           Borough                                 Neighborhood\n2        M3A        North York                                    Parkwoods\n3        M4A        North York                             Victoria Village\n4        M5A  Downtown Toronto                    Regent Park, Harbourfront\n5        M6A        North York             Lawrence Manor, Lawrence Heights\n6        M7A  Downtown Toronto  Queen's Park, Ontario Provincial Government"
                    },
                    "execution_count": 9,
                    "metadata": {},
                    "output_type": "execute_result"
                }
            ],
            "source": "# Clean datasete to remove records with Borough as \"Not Assigned\"\n\ndf_cleaned_data = df_data[df_data.Borough != 'Not assigned']\ndf_cleaned_data.head()"
        },
        {
            "cell_type": "markdown",
            "metadata": {},
            "source": "<b>Check if we have any multiple recods for the same Postalcode, if exists then merge the records"
        },
        {
            "cell_type": "code",
            "execution_count": 10,
            "metadata": {},
            "outputs": [
                {
                    "name": "stdout",
                    "output_type": "stream",
                    "text": "Multirecord Postalcode does not exists for merger\n"
                }
            ],
            "source": "# Check if we have any multiple recods for the same Postalcode.\n\nduplicateRowsDF = df_cleaned_data[df_cleaned_data.duplicated(['PostalCode'])]\n\nMulti_records_postalCode = duplicateRowsDF.shape[0]\n\n# For Postalcode with multiple recods, conctenate 'Neighborhood' values and keep only 1 record in the DataFrame\n\nif Multi_records_postalCode == 0:\n    print(\"Multirecord Postalcode does not exists for merger\")\nelse:\n    df_cleaned_data = df_cleaned_data.groupby(['PostalCode','Borough'])['Neighborhood'].apply(', '.join).reset_index()"
        },
        {
            "cell_type": "markdown",
            "metadata": {},
            "source": "<b>Check If a cell has a borough but a \"Not assigned\" neighborhood, if found, assign Borough to neighborhood."
        },
        {
            "cell_type": "code",
            "execution_count": 11,
            "metadata": {},
            "outputs": [
                {
                    "name": "stderr",
                    "output_type": "stream",
                    "text": "/opt/conda/envs/Python36/lib/python3.6/site-packages/pandas/core/indexing.py:190: SettingWithCopyWarning: \nA value is trying to be set on a copy of a slice from a DataFrame\n\nSee the caveats in the documentation: http://pandas.pydata.org/pandas-docs/stable/indexing.html#indexing-view-versus-copy\n  self._setitem_with_indexer(indexer, value)\n/opt/conda/envs/Python36/lib/python3.6/site-packages/ipykernel/__main__.py:3: SettingWithCopyWarning: \nA value is trying to be set on a copy of a slice from a DataFrame\n\nSee the caveats in the documentation: http://pandas.pydata.org/pandas-docs/stable/indexing.html#indexing-view-versus-copy\n  app.launch_new_instance()\n"
                },
                {
                    "data": {
                        "text/html": "<div>\n<style scoped>\n    .dataframe tbody tr th:only-of-type {\n        vertical-align: middle;\n    }\n\n    .dataframe tbody tr th {\n        vertical-align: top;\n    }\n\n    .dataframe thead th {\n        text-align: right;\n    }\n</style>\n<table border=\"1\" class=\"dataframe\">\n  <thead>\n    <tr style=\"text-align: right;\">\n      <th></th>\n      <th>PostalCode</th>\n      <th>Borough</th>\n      <th>Neighborhood</th>\n    </tr>\n  </thead>\n  <tbody>\n    <tr>\n      <th>2</th>\n      <td>M3A</td>\n      <td>North York</td>\n      <td>Parkwoods</td>\n    </tr>\n    <tr>\n      <th>3</th>\n      <td>M4A</td>\n      <td>North York</td>\n      <td>Victoria Village</td>\n    </tr>\n    <tr>\n      <th>4</th>\n      <td>M5A</td>\n      <td>Downtown Toronto</td>\n      <td>Regent Park, Harbourfront</td>\n    </tr>\n    <tr>\n      <th>5</th>\n      <td>M6A</td>\n      <td>North York</td>\n      <td>Lawrence Manor, Lawrence Heights</td>\n    </tr>\n    <tr>\n      <th>6</th>\n      <td>M7A</td>\n      <td>Downtown Toronto</td>\n      <td>Queen's Park, Ontario Provincial Government</td>\n    </tr>\n    <tr>\n      <th>8</th>\n      <td>M9A</td>\n      <td>Etobicoke</td>\n      <td>Islington Avenue, Humber Valley Village</td>\n    </tr>\n    <tr>\n      <th>9</th>\n      <td>M1B</td>\n      <td>Scarborough</td>\n      <td>Malvern, Rouge</td>\n    </tr>\n    <tr>\n      <th>11</th>\n      <td>M3B</td>\n      <td>North York</td>\n      <td>Don Mills</td>\n    </tr>\n    <tr>\n      <th>12</th>\n      <td>M4B</td>\n      <td>East York</td>\n      <td>Parkview Hill, Woodbine Gardens</td>\n    </tr>\n    <tr>\n      <th>13</th>\n      <td>M5B</td>\n      <td>Downtown Toronto</td>\n      <td>Garden District, Ryerson</td>\n    </tr>\n  </tbody>\n</table>\n</div>",
                        "text/plain": "   PostalCode           Borough                                 Neighborhood\n2         M3A        North York                                    Parkwoods\n3         M4A        North York                             Victoria Village\n4         M5A  Downtown Toronto                    Regent Park, Harbourfront\n5         M6A        North York             Lawrence Manor, Lawrence Heights\n6         M7A  Downtown Toronto  Queen's Park, Ontario Provincial Government\n8         M9A         Etobicoke      Islington Avenue, Humber Valley Village\n9         M1B       Scarborough                               Malvern, Rouge\n11        M3B        North York                                    Don Mills\n12        M4B         East York              Parkview Hill, Woodbine Gardens\n13        M5B  Downtown Toronto                     Garden District, Ryerson"
                    },
                    "execution_count": 11,
                    "metadata": {},
                    "output_type": "execute_result"
                }
            ],
            "source": "# If Neighborhood == 'Not assigned' then Neighborhood = Borough\n\ndf_cleaned_data.loc[df_cleaned_data['Neighborhood'] == 'Not assigned', 'Neighborhood'] = df_cleaned_data['Borough']\n\ndf_cleaned_data.head(10)"
        },
        {
            "cell_type": "markdown",
            "metadata": {},
            "source": "<b>Save the Cleansed Data in a CSV file and Publish the size of your DataFrame."
        },
        {
            "cell_type": "code",
            "execution_count": 12,
            "metadata": {},
            "outputs": [
                {
                    "data": {
                        "text/plain": "(103, 3)"
                    },
                    "execution_count": 12,
                    "metadata": {},
                    "output_type": "execute_result"
                }
            ],
            "source": "df_cleaned_data.to_csv('Final_Cleaned_dataset.csv', index = False)\n\ndf_cleaned_data.shape"
        },
        {
            "cell_type": "markdown",
            "metadata": {},
            "source": "# 2. Get the Geo coordinates for each neighborhood."
        },
        {
            "cell_type": "markdown",
            "metadata": {},
            "source": "<b> Let's get all the Geo Liabraries installed"
        },
        {
            "cell_type": "code",
            "execution_count": 13,
            "metadata": {},
            "outputs": [
                {
                    "name": "stdout",
                    "output_type": "stream",
                    "text": "Solving environment: done\n\n## Package Plan ##\n\n  environment location: /opt/conda/envs/Python36\n\n  added / updated specs: \n    - geopy\n\n\nThe following packages will be downloaded:\n\n    package                    |            build\n    ---------------------------|-----------------\n    openssl-1.1.1g             |       h516909a_0         2.1 MB  conda-forge\n    ca-certificates-2020.4.5.1 |       hecc5488_0         146 KB  conda-forge\n    geopy-1.22.0               |     pyh9f0ad1d_0          63 KB  conda-forge\n    python_abi-3.6             |          1_cp36m           4 KB  conda-forge\n    certifi-2020.4.5.1         |   py36h9f0ad1d_0         151 KB  conda-forge\n    geographiclib-1.50         |             py_0          34 KB  conda-forge\n    ------------------------------------------------------------\n                                           Total:         2.5 MB\n\nThe following NEW packages will be INSTALLED:\n\n    geographiclib:   1.50-py_0           conda-forge\n    geopy:           1.22.0-pyh9f0ad1d_0 conda-forge\n    python_abi:      3.6-1_cp36m         conda-forge\n\nThe following packages will be UPDATED:\n\n    ca-certificates: 2020.1.1-0                      --> 2020.4.5.1-hecc5488_0     conda-forge\n    certifi:         2020.4.5.1-py36_0               --> 2020.4.5.1-py36h9f0ad1d_0 conda-forge\n    openssl:         1.1.1g-h7b6447c_0               --> 1.1.1g-h516909a_0         conda-forge\n\n\nDownloading and Extracting Packages\nopenssl-1.1.1g       | 2.1 MB    | ##################################### | 100% \nca-certificates-2020 | 146 KB    | ##################################### | 100% \ngeopy-1.22.0         | 63 KB     | ##################################### | 100% \npython_abi-3.6       | 4 KB      | ##################################### | 100% \ncertifi-2020.4.5.1   | 151 KB    | ##################################### | 100% \ngeographiclib-1.50   | 34 KB     | ##################################### | 100% \nPreparing transaction: done\nVerifying transaction: done\nExecuting transaction: done\nSolving environment: done\n\n## Package Plan ##\n\n  environment location: /opt/conda/envs/Python36\n\n  added / updated specs: \n    - folium=0.5.0\n\n\nThe following packages will be downloaded:\n\n    package                    |            build\n    ---------------------------|-----------------\n    altair-4.1.0               |             py_1         614 KB  conda-forge\n    vincent-0.4.4              |             py_1          28 KB  conda-forge\n    folium-0.5.0               |             py_0          45 KB  conda-forge\n    branca-0.4.1               |             py_0          26 KB  conda-forge\n    ------------------------------------------------------------\n                                           Total:         713 KB\n\nThe following NEW packages will be INSTALLED:\n\n    altair:  4.1.0-py_1 conda-forge\n    branca:  0.4.1-py_0 conda-forge\n    folium:  0.5.0-py_0 conda-forge\n    vincent: 0.4.4-py_1 conda-forge\n\n\nDownloading and Extracting Packages\naltair-4.1.0         | 614 KB    | ##################################### | 100% \nvincent-0.4.4        | 28 KB     | ##################################### | 100% \nfolium-0.5.0         | 45 KB     | ##################################### | 100% \nbranca-0.4.1         | 26 KB     | ##################################### | 100% \nPreparing transaction: done\nVerifying transaction: done\nExecuting transaction: done\nFolium installed\nLibraries imported.\n"
                }
            ],
            "source": "import requests # library to handle requests\nimport pandas as pd # library for data analsysis\nimport numpy as np # library to handle data in a vectorized manner\n\n!conda install -c conda-forge geopy --yes \nfrom geopy.geocoders import Nominatim # module to convert an address into latitude and longitude values\n\n# libraries for displaying images\nfrom IPython.display import Image \nfrom IPython.core.display import HTML \n    \n# tranforming json file into a pandas dataframe library\nfrom pandas.io.json import json_normalize\n\n!conda install -c conda-forge folium=0.5.0 --yes\nimport folium # plotting library\n\nprint('Folium installed')\nprint('Libraries imported.')"
        },
        {
            "cell_type": "markdown",
            "metadata": {},
            "source": "<b> Given below is Geocoder code with Foursqaure Agent but it's not working for all the Neighborhood"
        },
        {
            "cell_type": "code",
            "execution_count": 14,
            "metadata": {},
            "outputs": [
                {
                    "name": "stdout",
                    "output_type": "stream",
                    "text": "0 Parkwoods 37.8567738 -122.22068778004532\n1 Victoria Village 43.732658 -79.3111892\n2 Regent Park, Harbourfront 43.64076885 -79.37989177980148\n3 Lawrence Manor, Lawrence Heights 43.7227784 -79.4509332\n"
                },
                {
                    "ename": "AttributeError",
                    "evalue": "'NoneType' object has no attribute 'latitude'",
                    "output_type": "error",
                    "traceback": [
                        "\u001b[0;31m---------------------------------------------------------------------------\u001b[0m",
                        "\u001b[0;31mAttributeError\u001b[0m                            Traceback (most recent call last)",
                        "\u001b[0;32m<ipython-input-14-159101934449>\u001b[0m in \u001b[0;36m<module>\u001b[0;34m\u001b[0m\n\u001b[1;32m      8\u001b[0m     \u001b[0maddress\u001b[0m \u001b[0;34m=\u001b[0m \u001b[0mdf_NeighData\u001b[0m\u001b[0;34m.\u001b[0m\u001b[0mNeighborhood\u001b[0m\u001b[0;34m[\u001b[0m\u001b[0mi\u001b[0m\u001b[0;34m]\u001b[0m\u001b[0;34m\u001b[0m\u001b[0;34m\u001b[0m\u001b[0m\n\u001b[1;32m      9\u001b[0m     \u001b[0mlocation\u001b[0m \u001b[0;34m=\u001b[0m \u001b[0mgeolocator\u001b[0m\u001b[0;34m.\u001b[0m\u001b[0mgeocode\u001b[0m\u001b[0;34m(\u001b[0m\u001b[0maddress\u001b[0m\u001b[0;34m)\u001b[0m\u001b[0;34m\u001b[0m\u001b[0;34m\u001b[0m\u001b[0m\n\u001b[0;32m---> 10\u001b[0;31m     \u001b[0mlatitude\u001b[0m \u001b[0;34m=\u001b[0m \u001b[0mlocation\u001b[0m\u001b[0;34m.\u001b[0m\u001b[0mlatitude\u001b[0m\u001b[0;34m\u001b[0m\u001b[0;34m\u001b[0m\u001b[0m\n\u001b[0m\u001b[1;32m     11\u001b[0m     \u001b[0mlongitude\u001b[0m \u001b[0;34m=\u001b[0m \u001b[0mlocation\u001b[0m\u001b[0;34m.\u001b[0m\u001b[0mlongitude\u001b[0m\u001b[0;34m\u001b[0m\u001b[0;34m\u001b[0m\u001b[0m\n\u001b[1;32m     12\u001b[0m     \u001b[0mprint\u001b[0m\u001b[0;34m(\u001b[0m\u001b[0mi\u001b[0m\u001b[0;34m,\u001b[0m\u001b[0maddress\u001b[0m\u001b[0;34m,\u001b[0m\u001b[0mlatitude\u001b[0m\u001b[0;34m,\u001b[0m\u001b[0mlongitude\u001b[0m\u001b[0;34m)\u001b[0m\u001b[0;34m\u001b[0m\u001b[0;34m\u001b[0m\u001b[0m\n",
                        "\u001b[0;31mAttributeError\u001b[0m: 'NoneType' object has no attribute 'latitude'"
                    ]
                }
            ],
            "source": "geolocator = Nominatim(user_agent=\"foursquare_agent\")\n\ndf_NeighData = pd.read_csv('Final_Cleaned_dataset.csv')\n\nRec_Count = df_NeighData.shape[0]\n\nfor i in range(Rec_Count):\n    address = df_NeighData.Neighborhood[i]\n    location = geolocator.geocode(address)\n    latitude = location.latitude\n    longitude = location.longitude\n    print(i,address,latitude,longitude)"
        },
        {
            "cell_type": "markdown",
            "metadata": {},
            "source": "<b> Used GeoSpatial Data for the Latitude and Longitude"
        },
        {
            "cell_type": "code",
            "execution_count": 15,
            "metadata": {},
            "outputs": [
                {
                    "name": "stdout",
                    "output_type": "stream",
                    "text": "--2020-05-30 06:09:31--  http://cocl.us/Geospatial_data/\nResolving cocl.us (cocl.us)... 158.85.108.83, 169.48.113.194, 158.85.108.86\nConnecting to cocl.us (cocl.us)|158.85.108.83|:80... connected.\nHTTP request sent, awaiting response... 301 Moved Permanently\nLocation: https://cocl.us/Geospatial_data/ [following]\n--2020-05-30 06:09:31--  https://cocl.us/Geospatial_data/\nConnecting to cocl.us (cocl.us)|158.85.108.83|:443... connected.\nHTTP request sent, awaiting response... 301 Moved Permanently\nLocation: https://ibm.box.com/shared/static/9afzr83pps4pwf2smjjcf1y5mvgb18rr.csv [following]\n--2020-05-30 06:09:32--  https://ibm.box.com/shared/static/9afzr83pps4pwf2smjjcf1y5mvgb18rr.csv\nResolving ibm.box.com (ibm.box.com)... 185.235.236.197\nConnecting to ibm.box.com (ibm.box.com)|185.235.236.197|:443... connected.\nHTTP request sent, awaiting response... 301 Moved Permanently\nLocation: /public/static/9afzr83pps4pwf2smjjcf1y5mvgb18rr.csv [following]\n--2020-05-30 06:09:33--  https://ibm.box.com/public/static/9afzr83pps4pwf2smjjcf1y5mvgb18rr.csv\nReusing existing connection to ibm.box.com:443.\nHTTP request sent, awaiting response... 301 Moved Permanently\nLocation: https://ibm.ent.box.com/public/static/9afzr83pps4pwf2smjjcf1y5mvgb18rr.csv [following]\n--2020-05-30 06:09:33--  https://ibm.ent.box.com/public/static/9afzr83pps4pwf2smjjcf1y5mvgb18rr.csv\nResolving ibm.ent.box.com (ibm.ent.box.com)... 107.152.29.211\nConnecting to ibm.ent.box.com (ibm.ent.box.com)|107.152.29.211|:443... connected.\nHTTP request sent, awaiting response... 302 Found\nLocation: https://public.boxcloud.com/d/1/b1!jcpWVE3KmYKrJce3d25Z3hobXybvDyLwlmHiPDts2OHAsMQBKCgosziRQWI2oeATmP-Gzu_64M0B02yBfQOgd0Hxt54M7qtWM-uYXefoGaViRGi_1QVwQJ7MWAJl_V2yZvoGDPxR-ZinCEzUgObtwJ4CszWjr8pKn-JR_r7J8DjWiINasVCRarXIuJ1Bd7Y16iQ4ZSvTfOXN_94k5d0YKZgpkEZhIdlcEasmYcPyz7NltkY4MpAQzHtBh-c7lU9TVGRyezlv3tgypaO0N_1Q0iCljYfN5-Ne-CHu7IjyyF-Ls2lHgsQ1nQGbR2yKuahx3GtUYMhVJhqSaFe_G7kXj9y81geJThSWHIJ0aFSKO9c2MdMuWmpKpCUSxX6n898OSuZCVI3BwdlatqrTvZcjdiGXWmmKXL6de6uKX0L411KDY570mKn6hyLWvq9LNXFpxzJjShW_Cf6vO3yVs23Ct4BgmbY0jjGusEmg7TwcK3-ikPE7hqvMAvvKwLhkWHR1Tea7U2D8sIkeWH1ecM8SeK9Pb4uA38UUTmPtRXU_8MYF5mVKiU0TfRVf2W8A4aKrwmcSqGdSen6MsqtlIZQVyCW2iBNga4J4Zs-4rOHPs2U4hrnn65DppWrrQwbMA8LD1cCroqa2q2NL-0C_trA9CEo5yakLPwK6HQZbVR0hkJggjEOhpKzxHtdDdnBH_dEc8WYOEelxzFFd--pTXkZaDlbKfh3R2KudEYOJ9FPbJl-vExgiGySWwdur80NN96pBM1AvfaLrJRgWos7XXDOKLlKhBFRFQIbGENj_-jUllvCeLRIRq2_SdnX4udU8VNd351iTz6lQmi9uPQkcdb_oA7VuxbjW8nwrSL5VCLc5l_y3GirdaK-n1fxeR1nRYzZmN52EriOSz7_sMUpfJYoUOdW3sIN9gjKMnQkmE8_NFu42jIT_35PWH6uLG3_RMMPMKeJjpnVtKPXCKNjwd1CH6y_DLISF2_9LYy_UKueAgt9nefwQRpXDrbmSsrXGYdLRkAc3Up4FqKC0BDeT7WLYz36C7XNPesy9RmUYYpDGz9lgPkUHJN5m3tXm6V88aZioONwh8LOWRuB8ePG2e2aKNb397lR4PKcV-OGjNhnKBFY3i4zGkWnnE21eUrztQh35UBwWV10whYw-PIAXMXq8Rf472klzRwM_rXO_TWb6Tg_-YmAsGNowKtgxk5Y8hIUjVtqURIfHl-n0v7tZHCueGECIke_g18veHMk3bfP7ztpUFF3uZLNLl5iVZODBNMkbqa8frpIEOXqrrkJQJjs3ZDabMq0nZ_78wZlWS_Q5T_Yp3Boqrpw_s7rE-yYoEsLxFFXQs7W2bvvwxJZCYi3OC_5TldQDEcF8Zngtj4PIkaYmVxCyxuqtB4vLQbYpQ_xfH_zgVDpv0u464P5ypdyYStd3GUEvbkfbjp9-I2INgiomjWg./download [following]\n--2020-05-30 06:09:34--  https://public.boxcloud.com/d/1/b1!jcpWVE3KmYKrJce3d25Z3hobXybvDyLwlmHiPDts2OHAsMQBKCgosziRQWI2oeATmP-Gzu_64M0B02yBfQOgd0Hxt54M7qtWM-uYXefoGaViRGi_1QVwQJ7MWAJl_V2yZvoGDPxR-ZinCEzUgObtwJ4CszWjr8pKn-JR_r7J8DjWiINasVCRarXIuJ1Bd7Y16iQ4ZSvTfOXN_94k5d0YKZgpkEZhIdlcEasmYcPyz7NltkY4MpAQzHtBh-c7lU9TVGRyezlv3tgypaO0N_1Q0iCljYfN5-Ne-CHu7IjyyF-Ls2lHgsQ1nQGbR2yKuahx3GtUYMhVJhqSaFe_G7kXj9y81geJThSWHIJ0aFSKO9c2MdMuWmpKpCUSxX6n898OSuZCVI3BwdlatqrTvZcjdiGXWmmKXL6de6uKX0L411KDY570mKn6hyLWvq9LNXFpxzJjShW_Cf6vO3yVs23Ct4BgmbY0jjGusEmg7TwcK3-ikPE7hqvMAvvKwLhkWHR1Tea7U2D8sIkeWH1ecM8SeK9Pb4uA38UUTmPtRXU_8MYF5mVKiU0TfRVf2W8A4aKrwmcSqGdSen6MsqtlIZQVyCW2iBNga4J4Zs-4rOHPs2U4hrnn65DppWrrQwbMA8LD1cCroqa2q2NL-0C_trA9CEo5yakLPwK6HQZbVR0hkJggjEOhpKzxHtdDdnBH_dEc8WYOEelxzFFd--pTXkZaDlbKfh3R2KudEYOJ9FPbJl-vExgiGySWwdur80NN96pBM1AvfaLrJRgWos7XXDOKLlKhBFRFQIbGENj_-jUllvCeLRIRq2_SdnX4udU8VNd351iTz6lQmi9uPQkcdb_oA7VuxbjW8nwrSL5VCLc5l_y3GirdaK-n1fxeR1nRYzZmN52EriOSz7_sMUpfJYoUOdW3sIN9gjKMnQkmE8_NFu42jIT_35PWH6uLG3_RMMPMKeJjpnVtKPXCKNjwd1CH6y_DLISF2_9LYy_UKueAgt9nefwQRpXDrbmSsrXGYdLRkAc3Up4FqKC0BDeT7WLYz36C7XNPesy9RmUYYpDGz9lgPkUHJN5m3tXm6V88aZioONwh8LOWRuB8ePG2e2aKNb397lR4PKcV-OGjNhnKBFY3i4zGkWnnE21eUrztQh35UBwWV10whYw-PIAXMXq8Rf472klzRwM_rXO_TWb6Tg_-YmAsGNowKtgxk5Y8hIUjVtqURIfHl-n0v7tZHCueGECIke_g18veHMk3bfP7ztpUFF3uZLNLl5iVZODBNMkbqa8frpIEOXqrrkJQJjs3ZDabMq0nZ_78wZlWS_Q5T_Yp3Boqrpw_s7rE-yYoEsLxFFXQs7W2bvvwxJZCYi3OC_5TldQDEcF8Zngtj4PIkaYmVxCyxuqtB4vLQbYpQ_xfH_zgVDpv0u464P5ypdyYStd3GUEvbkfbjp9-I2INgiomjWg./download\nResolving public.boxcloud.com (public.boxcloud.com)... 107.152.25.200\nConnecting to public.boxcloud.com (public.boxcloud.com)|107.152.25.200|:443... connected.\nHTTP request sent, awaiting response... 200 OK\nLength: 2891 (2.8K) [text/csv]\nSaving to: \u2018GeoCord.csv\u2019\n\n100%[======================================>] 2,891       --.-K/s   in 0s      \n\n2020-05-30 06:09:34 (262 MB/s) - \u2018GeoCord.csv\u2019 saved [2891/2891]\n\n"
                }
            ],
            "source": "!wget -O GeoCord.csv http://cocl.us/Geospatial_data/"
        },
        {
            "cell_type": "code",
            "execution_count": 16,
            "metadata": {},
            "outputs": [
                {
                    "data": {
                        "text/html": "<div>\n<style scoped>\n    .dataframe tbody tr th:only-of-type {\n        vertical-align: middle;\n    }\n\n    .dataframe tbody tr th {\n        vertical-align: top;\n    }\n\n    .dataframe thead th {\n        text-align: right;\n    }\n</style>\n<table border=\"1\" class=\"dataframe\">\n  <thead>\n    <tr style=\"text-align: right;\">\n      <th></th>\n      <th>PostalCode</th>\n      <th>Borough</th>\n      <th>Neighborhood</th>\n      <th>Latitude</th>\n      <th>Longitude</th>\n    </tr>\n  </thead>\n  <tbody>\n    <tr>\n      <th>0</th>\n      <td>M3A</td>\n      <td>North York</td>\n      <td>Parkwoods</td>\n      <td>43.753259</td>\n      <td>-79.329656</td>\n    </tr>\n    <tr>\n      <th>1</th>\n      <td>M4A</td>\n      <td>North York</td>\n      <td>Victoria Village</td>\n      <td>43.725882</td>\n      <td>-79.315572</td>\n    </tr>\n    <tr>\n      <th>2</th>\n      <td>M5A</td>\n      <td>Downtown Toronto</td>\n      <td>Regent Park, Harbourfront</td>\n      <td>43.654260</td>\n      <td>-79.360636</td>\n    </tr>\n    <tr>\n      <th>3</th>\n      <td>M6A</td>\n      <td>North York</td>\n      <td>Lawrence Manor, Lawrence Heights</td>\n      <td>43.718518</td>\n      <td>-79.464763</td>\n    </tr>\n    <tr>\n      <th>4</th>\n      <td>M7A</td>\n      <td>Downtown Toronto</td>\n      <td>Queen's Park, Ontario Provincial Government</td>\n      <td>43.662301</td>\n      <td>-79.389494</td>\n    </tr>\n    <tr>\n      <th>5</th>\n      <td>M9A</td>\n      <td>Etobicoke</td>\n      <td>Islington Avenue, Humber Valley Village</td>\n      <td>43.667856</td>\n      <td>-79.532242</td>\n    </tr>\n    <tr>\n      <th>6</th>\n      <td>M1B</td>\n      <td>Scarborough</td>\n      <td>Malvern, Rouge</td>\n      <td>43.806686</td>\n      <td>-79.194353</td>\n    </tr>\n    <tr>\n      <th>7</th>\n      <td>M3B</td>\n      <td>North York</td>\n      <td>Don Mills</td>\n      <td>43.745906</td>\n      <td>-79.352188</td>\n    </tr>\n    <tr>\n      <th>8</th>\n      <td>M4B</td>\n      <td>East York</td>\n      <td>Parkview Hill, Woodbine Gardens</td>\n      <td>43.706397</td>\n      <td>-79.309937</td>\n    </tr>\n    <tr>\n      <th>9</th>\n      <td>M5B</td>\n      <td>Downtown Toronto</td>\n      <td>Garden District, Ryerson</td>\n      <td>43.657162</td>\n      <td>-79.378937</td>\n    </tr>\n  </tbody>\n</table>\n</div>",
                        "text/plain": "  PostalCode           Borough                                 Neighborhood  \\\n0        M3A        North York                                    Parkwoods   \n1        M4A        North York                             Victoria Village   \n2        M5A  Downtown Toronto                    Regent Park, Harbourfront   \n3        M6A        North York             Lawrence Manor, Lawrence Heights   \n4        M7A  Downtown Toronto  Queen's Park, Ontario Provincial Government   \n5        M9A         Etobicoke      Islington Avenue, Humber Valley Village   \n6        M1B       Scarborough                               Malvern, Rouge   \n7        M3B        North York                                    Don Mills   \n8        M4B         East York              Parkview Hill, Woodbine Gardens   \n9        M5B  Downtown Toronto                     Garden District, Ryerson   \n\n    Latitude  Longitude  \n0  43.753259 -79.329656  \n1  43.725882 -79.315572  \n2  43.654260 -79.360636  \n3  43.718518 -79.464763  \n4  43.662301 -79.389494  \n5  43.667856 -79.532242  \n6  43.806686 -79.194353  \n7  43.745906 -79.352188  \n8  43.706397 -79.309937  \n9  43.657162 -79.378937  "
                    },
                    "execution_count": 16,
                    "metadata": {},
                    "output_type": "execute_result"
                }
            ],
            "source": "df_geospatial = pd.read_csv('GeoCord.csv')\n\ndf_geospatial.head(10)\n\nFinal_Dataset = pd.merge(df_NeighData, df_geospatial, left_on='PostalCode', right_on='Postal Code').drop(['Postal Code'], axis = 1)\nFinal_Dataset.head(10)"
        },
        {
            "cell_type": "markdown",
            "metadata": {},
            "source": "<b> Save the Final Dataset with Geo coordinates"
        },
        {
            "cell_type": "code",
            "execution_count": 17,
            "metadata": {},
            "outputs": [
                {
                    "data": {
                        "text/plain": "(103, 5)"
                    },
                    "execution_count": 17,
                    "metadata": {},
                    "output_type": "execute_result"
                }
            ],
            "source": "Final_Dataset.to_csv(\"Final_Dataset_with_Geo_coordinates.csv\", index = False)\nFinal_Dataset.shape"
        },
        {
            "cell_type": "code",
            "execution_count": null,
            "metadata": {},
            "outputs": [],
            "source": ""
        }
    ],
    "metadata": {
        "kernelspec": {
            "display_name": "Python 3.6",
            "language": "python",
            "name": "python3"
        },
        "language_info": {
            "codemirror_mode": {
                "name": "ipython",
                "version": 3
            },
            "file_extension": ".py",
            "mimetype": "text/x-python",
            "name": "python",
            "nbconvert_exporter": "python",
            "pygments_lexer": "ipython3",
            "version": "3.6.9"
        }
    },
    "nbformat": 4,
    "nbformat_minor": 1
}